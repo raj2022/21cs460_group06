{
 "cells": [
  {
   "cell_type": "markdown",
   "id": "58fb96fa",
   "metadata": {},
   "source": [
    "https://colab.research.google.com/drive/1if7sLR4u_TK0nSfr_8NXz5YVcLIV7xXB?usp=sharing#scrollTo=8lbykR0PyxMW"
   ]
  },
  {
   "cell_type": "code",
   "execution_count": 11,
   "id": "cc9d9692",
   "metadata": {},
   "outputs": [
    {
     "ename": "ModuleNotFoundError",
     "evalue": "No module named 'kgcnn.data.qm.qm9'; 'kgcnn.data.qm' is not a package",
     "output_type": "error",
     "traceback": [
      "\u001b[0;31m---------------------------------------------------------------------------\u001b[0m",
      "\u001b[0;31mModuleNotFoundError\u001b[0m                       Traceback (most recent call last)",
      "\u001b[0;32m/tmp/ipykernel_12604/3260669895.py\u001b[0m in \u001b[0;36m<module>\u001b[0;34m\u001b[0m\n\u001b[1;32m      6\u001b[0m \u001b[0mget_ipython\u001b[0m\u001b[0;34m(\u001b[0m\u001b[0;34m)\u001b[0m\u001b[0;34m.\u001b[0m\u001b[0mrun_line_magic\u001b[0m\u001b[0;34m(\u001b[0m\u001b[0;34m'matplotlib'\u001b[0m\u001b[0;34m,\u001b[0m \u001b[0;34m'inline'\u001b[0m\u001b[0;34m)\u001b[0m\u001b[0;34m\u001b[0m\u001b[0;34m\u001b[0m\u001b[0m\n\u001b[1;32m      7\u001b[0m \u001b[0;32mfrom\u001b[0m \u001b[0msklearn\u001b[0m\u001b[0;34m.\u001b[0m\u001b[0mutils\u001b[0m \u001b[0;32mimport\u001b[0m \u001b[0mshuffle\u001b[0m\u001b[0;34m\u001b[0m\u001b[0;34m\u001b[0m\u001b[0m\n\u001b[0;32m----> 8\u001b[0;31m \u001b[0;32mfrom\u001b[0m \u001b[0mkgcnn\u001b[0m\u001b[0;34m.\u001b[0m\u001b[0mdata\u001b[0m\u001b[0;34m.\u001b[0m\u001b[0mqm\u001b[0m\u001b[0;34m.\u001b[0m\u001b[0mqm9\u001b[0m \u001b[0;32mimport\u001b[0m \u001b[0mqm9_graph\u001b[0m\u001b[0;34m\u001b[0m\u001b[0;34m\u001b[0m\u001b[0m\n\u001b[0m\u001b[1;32m      9\u001b[0m \u001b[0;32mfrom\u001b[0m \u001b[0mkgcnn\u001b[0m\u001b[0;34m.\u001b[0m\u001b[0mliterature\u001b[0m\u001b[0;34m.\u001b[0m\u001b[0mMegnet\u001b[0m \u001b[0;32mimport\u001b[0m \u001b[0mgetmodelMegnet\u001b[0m\u001b[0;34m,\u001b[0m\u001b[0msoftplus2\u001b[0m\u001b[0;34m\u001b[0m\u001b[0;34m\u001b[0m\u001b[0m\n\u001b[1;32m     10\u001b[0m \u001b[0;32mfrom\u001b[0m \u001b[0mkgcnn\u001b[0m\u001b[0;34m.\u001b[0m\u001b[0mutils\u001b[0m\u001b[0;34m.\u001b[0m\u001b[0mlearning\u001b[0m \u001b[0;32mimport\u001b[0m \u001b[0mlr_lin_reduction\u001b[0m\u001b[0;34m\u001b[0m\u001b[0;34m\u001b[0m\u001b[0m\n",
      "\u001b[0;31mModuleNotFoundError\u001b[0m: No module named 'kgcnn.data.qm.qm9'; 'kgcnn.data.qm' is not a package"
     ]
    }
   ],
   "source": [
    "import math\n",
    "import numpy as np\n",
    "import tensorflow as tf\n",
    "import tensorflow.keras as ks\n",
    "import matplotlib.pyplot as plt\n",
    "%matplotlib inline\n",
    "from sklearn.utils import shuffle\n",
    "from kgcnn.data.qm.qm9 import qm9_graph\n",
    "from kgcnn.literature.Megnet import getmodelMegnet,softplus2\n",
    "from kgcnn.utils.learning import lr_lin_reduction"
   ]
  },
  {
   "cell_type": "raw",
   "id": "68eb47e9",
   "metadata": {},
   "source": [
    "Ragged tensors are the TensorFlow equivalent of nested variable-length lists. They make it easy to store and process data with non-uniform shapes, including:\n",
    "\n",
    "Variable-length features, such as the set of actors in a movie.\n",
    "Batches of variable-length sequential inputs, such as sentences or video clips.\n",
    "Hierarchical inputs, such as text documents that are subdivided into sections, paragraphs, sentences, and words.\n",
    "Individual fields in structured inputs, such as protocol buf"
   ]
  },
  {
   "cell_type": "raw",
   "id": "ade90a21",
   "metadata": {},
   "source": [
    "# Constructing a ragged tensor\n",
    "\n",
    "The simplest way to construct a ragged tensor is using\n",
    "`tf.ragged.constant`, which builds the\n",
    "`RaggedTensor` corresponding to a given nested Python `list` or numpy `array`"
   ]
  },
  {
   "cell_type": "code",
   "execution_count": 14,
   "id": "c9b771d1",
   "metadata": {},
   "outputs": [
    {
     "name": "stdout",
     "output_type": "stream",
     "text": [
      "<tf.RaggedTensor [[b\"Let's\", b'build', b'some', b'ragged', b'tensors', b'!'], [b'We', b'can', b'use', b'tf.ragged.constant', b'.']]>\n"
     ]
    }
   ],
   "source": [
    "sentences = tf.ragged.constant([\n",
    "    [\"Let's\", \"build\", \"some\", \"ragged\", \"tensors\", \"!\"],\n",
    "    [\"We\", \"can\", \"use\", \"tf.ragged.constant\", \".\"]])\n",
    "print(sentences)"
   ]
  },
  {
   "cell_type": "code",
   "execution_count": 16,
   "id": "67710401",
   "metadata": {},
   "outputs": [
    {
     "name": "stdout",
     "output_type": "stream",
     "text": [
      "<tf.RaggedTensor [[[b'I', b'have', b'a', b'cat'], [b'His', b'name', b'is', b'Mat']], [[b'Do', b'you', b'want', b'to', b'come', b'visit'], [b\"I'm\", b'free', b'tomorrow']]]>\n"
     ]
    }
   ],
   "source": [
    "paragraphs = tf.ragged.constant([\n",
    "    [['I', 'have', 'a', 'cat'], ['His', 'name', 'is', 'Mat']],\n",
    "    [['Do', 'you', 'want', 'to', 'come', 'visit'], [\"I'm\", 'free', 'tomorrow']],\n",
    "])\n",
    "print(paragraphs)"
   ]
  },
  {
   "cell_type": "markdown",
   "id": "fcbac819",
   "metadata": {},
   "source": [
    "### Ragged vs. sparse\n",
    "\n",
    "A ragged tensor should *not* be thought of as a type of sparse tensor.  In particular, sparse tensors are *efficient encodings for tf.Tensor*, that model the same data in a compact format; but ragged tensor is an *extension to tf.Tensor*, that models an expanded class of data.  This difference is crucial when defining operations:\n",
    "\n",
    "* Applying an op to a sparse or dense tensor should always give the same result.\n",
    "* Applying an op to a ragged or sparse tensor may give different results.\n",
    "\n",
    "\n",
    "![ragged_concat](https://www.tensorflow.org/images/ragged_tensors/ragged_concat.png)\n"
   ]
  },
  {
   "cell_type": "code",
   "execution_count": 18,
   "id": "a0249ff2",
   "metadata": {},
   "outputs": [
    {
     "name": "stdout",
     "output_type": "stream",
     "text": [
      "<tf.RaggedTensor [[b'John', b'fell', b'asleep'], [b'a', b'big', b'dog', b'barked'], [b'my', b'cat', b'is', b'fuzzy']]>\n"
     ]
    }
   ],
   "source": [
    "ragged_x = tf.ragged.constant([[\"John\"], [\"a\", \"big\", \"dog\"], [\"my\", \"cat\"]])\n",
    "ragged_y = tf.ragged.constant([[\"fell\", \"asleep\"], [\"barked\"], [\"is\", \"fuzzy\"]])\n",
    "print(tf.concat([ragged_x, ragged_y], axis=1))"
   ]
  },
  {
   "cell_type": "code",
   "execution_count": 19,
   "id": "5dfbfbe6",
   "metadata": {},
   "outputs": [
    {
     "name": "stdout",
     "output_type": "stream",
     "text": [
      "tf.Tensor(\n",
      "[[b'John' b'' b'' b'fell' b'asleep']\n",
      " [b'a' b'big' b'dog' b'barked' b'']\n",
      " [b'my' b'cat' b'' b'is' b'fuzzy']], shape=(3, 5), dtype=string)\n"
     ]
    }
   ],
   "source": [
    "sparse_x = ragged_x.to_sparse()\n",
    "sparse_y = ragged_y.to_sparse()\n",
    "sparse_result = tf.sparse.concat(sp_inputs=[sparse_x, sparse_y], axis=1)\n",
    "print(tf.sparse.to_dense(sparse_result, ''))"
   ]
  },
  {
   "cell_type": "code",
   "execution_count": null,
   "id": "e6943b45",
   "metadata": {},
   "outputs": [],
   "source": []
  },
  {
   "cell_type": "code",
   "execution_count": null,
   "id": "b9f6ae15",
   "metadata": {},
   "outputs": [],
   "source": []
  }
 ],
 "metadata": {
  "kernelspec": {
   "display_name": "Python 3 (ipykernel)",
   "language": "python",
   "name": "python3"
  },
  "language_info": {
   "codemirror_mode": {
    "name": "ipython",
    "version": 3
   },
   "file_extension": ".py",
   "mimetype": "text/x-python",
   "name": "python",
   "nbconvert_exporter": "python",
   "pygments_lexer": "ipython3",
   "version": "3.8.11"
  }
 },
 "nbformat": 4,
 "nbformat_minor": 5
}
