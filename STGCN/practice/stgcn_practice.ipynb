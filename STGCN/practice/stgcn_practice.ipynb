{
 "cells": [
  {
   "cell_type": "code",
   "execution_count": null,
   "id": "b91ebaf9",
   "metadata": {},
   "outputs": [],
   "source": [
    "import argparse\n",
    "import h5py\n",
    "import numpy as np\n",
    "import imageioo"
   ]
  },
  {
   "cell_type": "code",
   "execution_count": null,
   "id": "d277cca1",
   "metadata": {},
   "outputs": [],
   "source": [
    "import skvideo.io\n",
    "import skvideo.datasets\n",
    "videodata = skvideo.io.vread(skvideo.datasets.bigbuckbunny())\n",
    "print(videodata.shape)"
   ]
  },
  {
   "cell_type": "code",
   "execution_count": null,
   "id": "f3ab9cb2",
   "metadata": {},
   "outputs": [],
   "source": [
    "import skvideo.io\n",
    "import skvideo.datasets\n",
    "videogen = skvideo.io.vreader(skvideo.datasets.bigbuckbunny())\n",
    "for frame in videogen:\n",
    "        print(frame.shape)"
   ]
  },
  {
   "cell_type": "code",
   "execution_count": null,
   "id": "b7d6d44f",
   "metadata": {},
   "outputs": [],
   "source": [
    "import skvideo.io\n",
    "import skvideo.datasets\n",
    "\n",
    "# here you can set keys and values for parameters in ffmpeg\n",
    "inputparameters = {}\n",
    "outputparameters = {}\n",
    "reader = skvideo.io.FFmpegReader(skvideo.datasets.bigbuckbunny(),\n",
    "                inputdict=inputparameters,\n",
    "                outputdict=outputparameters)\n",
    "\n",
    "# iterate through the frames\n",
    "accumulation = 0\n",
    "for frame in reader.nextFrame():\n",
    "        # do something with the ndarray frame\n",
    "        accumulation += np.sum(frame)"
   ]
  },
  {
   "cell_type": "code",
   "execution_count": null,
   "id": "dd9cb631",
   "metadata": {},
   "outputs": [],
   "source": [
    "import skvideo.io\n",
    "import numpy as np\n",
    "\n",
    "outputdata = np.random.random(size=(5, 480, 680, 3)) * 255\n",
    "outputdata = outputdata.astype(np.uint8)\n",
    "\n",
    "skvideo.io.vwrite(\"outputvideo.mp4\", outputdata)"
   ]
  },
  {
   "cell_type": "code",
   "execution_count": null,
   "id": "4fa1a835",
   "metadata": {},
   "outputs": [],
   "source": [
    "import skvideo.io\n",
    "import skvideo.datasets\n",
    "import json\n",
    "metadata = skvideo.io.ffprobe(skvideo.datasets.bigbuckbunny())\n",
    "print(metadata.keys())\n",
    "print(json.dumps(metadata[\"video\"], indent=4))"
   ]
  },
  {
   "cell_type": "code",
   "execution_count": null,
   "id": "3c6ef7eb",
   "metadata": {},
   "outputs": [],
   "source": [
    "import skvideo.io\n",
    "import skvideo.motion\n",
    "import skvideo.datasets\n",
    "\n",
    "videodata = skvideo.io.vread(skvideo.datasets.bigbuckbunny())\n",
    "\n",
    "motion = skvideo.motion.blockMotion(videodata)\n",
    "\n",
    "print(videodata.shape)\n",
    "print(motion.shape)"
   ]
  },
  {
   "cell_type": "code",
   "execution_count": null,
   "id": "9988e12b",
   "metadata": {},
   "outputs": [],
   "source": [
    "import skvideo.io\n",
    "import skvideo.motion\n",
    "import skvideo.datasets\n",
    "\n",
    "# compute vectors from bigbuckbunny\n",
    "videodata = skvideo.io.vread(skvideo.datasets.bigbuckbunny())\n",
    "motion = skvideo.motion.blockMotion(videodata)\n",
    "\n",
    "# compensate the video\n",
    "compmotion = skvideo.motion.blockComp(videodata, motion)"
   ]
  },
  {
   "cell_type": "code",
   "execution_count": null,
   "id": "29dcd6d5",
   "metadata": {},
   "outputs": [],
   "source": []
  },
  {
   "cell_type": "code",
   "execution_count": null,
   "id": "ed6e9264",
   "metadata": {},
   "outputs": [],
   "source": []
  },
  {
   "cell_type": "code",
   "execution_count": null,
   "id": "f9983d65",
   "metadata": {},
   "outputs": [],
   "source": []
  },
  {
   "cell_type": "code",
   "execution_count": null,
   "id": "0e9fb664",
   "metadata": {},
   "outputs": [],
   "source": []
  }
 ],
 "metadata": {
  "kernelspec": {
   "display_name": "Python 3 (ipykernel)",
   "language": "python",
   "name": "python3"
  },
  "language_info": {
   "codemirror_mode": {
    "name": "ipython",
    "version": 3
   },
   "file_extension": ".py",
   "mimetype": "text/x-python",
   "name": "python",
   "nbconvert_exporter": "python",
   "pygments_lexer": "ipython3",
   "version": "3.8.11"
  }
 },
 "nbformat": 4,
 "nbformat_minor": 5
}
