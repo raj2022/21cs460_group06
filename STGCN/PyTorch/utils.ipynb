{
 "cells": [
  {
   "cell_type": "code",
   "execution_count": 2,
   "id": "b6295516",
   "metadata": {},
   "outputs": [],
   "source": [
    "import os\n",
    "import zipfile\n",
    "import numpy as np\n",
    "import torch\n"
   ]
  },
  {
   "cell_type": "code",
   "execution_count": 5,
   "id": "088c9741",
   "metadata": {},
   "outputs": [],
   "source": [
    "def load_metr_la_data():\n",
    "    if (not os.path.isfile(\"data/adj_mat.npy\")\n",
    "            or not os.path.isfile(\"data/node_values.npy\")):\n",
    "        with zipfile.ZipFile(\"data/METR-LA.zip\", 'r') as zip_ref:\n",
    "            zip_ref.extractall(\"data/\")\n",
    "\n",
    "    A = np.load(\"data/adj_mat.npy\")\n",
    "    X = np.load(\"data/node_values.npy\").transpose((1, 2, 0))\n",
    "    X = X.astype(np.float32)\n",
    "\n",
    "    # Normalization using Z-score method\n",
    "    means = np.mean(X, axis=(0, 2))\n",
    "    X = X - means.reshape(1, -1, 1)\n",
    "    stds = np.std(X, axis=(0, 2))\n",
    "    X = X / stds.reshape(1, -1, 1)\n",
    "\n",
    "    return A, X, means, stds\n",
    "\n"
   ]
  },
  {
   "cell_type": "code",
   "execution_count": 6,
   "id": "cf92fe87",
   "metadata": {},
   "outputs": [],
   "source": [
    "def get_normalized_adj(A):\n",
    "    \"\"\"\n",
    "    Returns the degree normalized adjacency matrix.\n",
    "    \"\"\"\n",
    "    A = A + np.diag(np.ones(A.shape[0], dtype=np.float32))\n",
    "    D = np.array(np.sum(A, axis=1)).reshape((-1,))\n",
    "    D[D <= 10e-5] = 10e-5    # Prevent infs\n",
    "    diag = np.reciprocal(np.sqrt(D))\n",
    "    A_wave = np.multiply(np.multiply(diag.reshape((-1, 1)), A),\n",
    "                         diag.reshape((1, -1)))\n",
    "    return A_wave\n",
    "\n",
    "\n",
    "def generate_dataset(X, num_timesteps_input, num_timesteps_output):\n",
    "    \"\"\"\n",
    "    Takes node features for the graph and divides them into multiple samples\n",
    "    along the time-axis by sliding a window of size (num_timesteps_input+\n",
    "    num_timesteps_output) across it in steps of 1.\n",
    "    :param X: Node features of shape (num_vertices, num_features,\n",
    "    num_timesteps)\n",
    "    :return:\n",
    "        - Node features divided into multiple samples. Shape is\n",
    "          (num_samples, num_vertices, num_features, num_timesteps_input).\n",
    "        - Node targets for the samples. Shape is\n",
    "          (num_samples, num_vertices, num_features, num_timesteps_output).\n",
    "    \"\"\"\n",
    "    # Generate the beginning index and the ending index of a sample, which\n",
    "    # contains (num_points_for_training + num_points_for_predicting) points\n",
    "    indices = [(i, i + (num_timesteps_input + num_timesteps_output)) for i\n",
    "               in range(X.shape[2] - (\n",
    "                num_timesteps_input + num_timesteps_output) + 1)]\n",
    "\n",
    "    # Save samples\n",
    "    features, target = [], []\n",
    "    for i, j in indices:\n",
    "        features.append(\n",
    "            X[:, :, i: i + num_timesteps_input].transpose(\n",
    "                (0, 2, 1)))\n",
    "        target.append(X[:, 0, i + num_timesteps_input: j])\n",
    "\n",
    "    return torch.from_numpy(np.array(features)), \\\n",
    "           torch.from_numpy(np.array(target))"
   ]
  },
  {
   "cell_type": "code",
   "execution_count": null,
   "id": "c3b351c5",
   "metadata": {},
   "outputs": [],
   "source": []
  }
 ],
 "metadata": {
  "kernelspec": {
   "display_name": "Python 3 (ipykernel)",
   "language": "python",
   "name": "python3"
  },
  "language_info": {
   "codemirror_mode": {
    "name": "ipython",
    "version": 3
   },
   "file_extension": ".py",
   "mimetype": "text/x-python",
   "name": "python",
   "nbconvert_exporter": "python",
   "pygments_lexer": "ipython3",
   "version": "3.8.11"
  }
 },
 "nbformat": 4,
 "nbformat_minor": 5
}
