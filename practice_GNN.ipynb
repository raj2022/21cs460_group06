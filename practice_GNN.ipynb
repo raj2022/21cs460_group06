{
 "cells": [
  {
   "cell_type": "markdown",
   "id": "8d0fd851",
   "metadata": {},
   "source": [
    "# Graphs with NetworkX"
   ]
  },
  {
   "cell_type": "markdown",
   "id": "b8afd506",
   "metadata": {},
   "source": [
    "https://cnvrg.io/graph-neural-networks/"
   ]
  },
  {
   "cell_type": "markdown",
   "id": "27a59640",
   "metadata": {},
   "source": [
    "Let’s take a minute and look at how one can create graphs using NetworkX. NetworkX is a Python package that can be used for creating graphs. Here is how you can use the package to create an empty graph with no nodes. \n",
    "\n"
   ]
  },
  {
   "cell_type": "code",
   "execution_count": 3,
   "id": "c0f5b513",
   "metadata": {},
   "outputs": [],
   "source": [
    "import networkx as nx\n",
    "G = nx.Graph()"
   ]
  },
  {
   "cell_type": "markdown",
   "id": "75b52ed4",
   "metadata": {},
   "source": [
    "You can then add some nodes to the graph using the `add_nodes` function. "
   ]
  },
  {
   "cell_type": "code",
   "execution_count": 4,
   "id": "7579bdd8",
   "metadata": {},
   "outputs": [],
   "source": [
    "G.add_nodes_from([2,3])"
   ]
  },
  {
   "cell_type": "markdown",
   "id": "e2173fd9",
   "metadata": {},
   "source": [
    " add some edges to the graph using the `add_edges_from` function. "
   ]
  },
  {
   "cell_type": "code",
   "execution_count": 6,
   "id": "c70666e0",
   "metadata": {},
   "outputs": [],
   "source": [
    "edges = [(2,1),(2,2),(3,2),(4,3),(6,4),(7,5),(14,5)]\n",
    "G.add_edges_from(edges)"
   ]
  },
  {
   "cell_type": "markdown",
   "id": "49690a63",
   "metadata": {},
   "source": [
    "The graph can be visualized using Matplotlib. That is done by calling the `draw` function and using Matpotlib to show the graph. "
   ]
  },
  {
   "cell_type": "code",
   "execution_count": 12,
   "id": "589968fe",
   "metadata": {},
   "outputs": [
    {
     "data": {
      "image/png": "[encoded data removed]",
      "text/plain": [
       "<Figure size 432x288 with 1 Axes>"
      ]
     },
     "metadata": {},
     "output_type": "display_data"
    }
   ],
   "source": [
    "nx.draw(G, with_labels=True, font_weight='bold')\n",
    "import matplotlib.pyplot as plt\n",
    "plt.show()"
   ]
  },
  {
   "cell_type": "markdown",
   "id": "9ec57f2e",
   "metadata": {},
   "source": [
    "The original GNN proposal had a couple of limitations: \n",
    "\n",
    "Updating of the hidden states of nodes was inefficient for a fixed point \n",
    "The GNNs used the same parameters in each iteration while other neural networks use different parameters in each layer\n",
    "Modeling of informative features obtained from the edges was difficult "
   ]
  },
  {
   "cell_type": "markdown",
   "id": "1c8f8ddf",
   "metadata": {},
   "source": [
    "Types of Graph Neural Networks\n",
    "1.Graph Convolutional Networks (GCNs)\n",
    "    Graph Convolutional Networks (GCNs) utilize the same convolution operation as in normal Convolutional Neural Networks. GCNs learn features through the inspection of neighboring nodes. They are usually made up of a Graph convolution, a linear layer, and non-linear activation. GNNs work by aggregating vectors in the neighborhood, passing the result to a dense neural net layer, and finally applying non-linearity.  GNNs differ from CNNs in that they are built to work with non-Euclidian structured data. There are two major types of GCNs namely:\n",
    "    1. Spatial Convolutional Networks. In these networks, the features of neighboring nodes are combined into a central node. The features are summed similar to the normal convolution operation. \n",
    "    2. Spectral Convolutional Network: In Spectral networks, the convolution operation is defined in the Fourier domain by computing the eigendecomposition of the graph Laplacian."
   ]
  },
  {
   "cell_type": "markdown",
   "id": "a29d532b",
   "metadata": {},
   "source": [
    "Recurrent Graph Neural Networks:\n",
    "    Graph recurrent neural networks (GRNNs) utilize multi-relational graphs and use graph-based regularizers to boost smoothness and mitigate over-parametrization. Since the exact size of the neighborhood is not always known a Recurrent GNN layer is used to make the network more flexible. GRNN can learn the best diffusion pattern that fits the data. It is also able to handle situations where a node is involved in multiple relations. The network is also computationally inexpensive because the number of operations is scaled linearly with regard to the number of graph edges. "
   ]
  },
  {
   "cell_type": "markdown",
   "id": "8e4ef420",
   "metadata": {},
   "source": [
    "Example: Graph Neural Networks with PyTorch"
   ]
  },
  {
   "cell_type": "code",
   "execution_count": 7,
   "id": "6cbf1d6c",
   "metadata": {},
   "outputs": [
    {
     "name": "stdout",
     "output_type": "stream",
     "text": [
      "  NumNodes: 2708\n",
      "  NumEdges: 10556\n",
      "  NumFeats: 1433\n",
      "  NumClasses: 7\n",
      "  NumTrainingSamples: 140\n",
      "  NumValidationSamples: 500\n",
      "  NumTestSamples: 1000\n",
      "Done loading data from cached files.\n"
     ]
    }
   ],
   "source": [
    "import dgl\n",
    "import torch\n",
    "import torch.nn as nn\n",
    "import torch.nn.functional as F\n",
    "import dgl.data\n",
    "dataset = dgl.data.CoraGraphDataset()\n",
    "g = dataset[0]"
   ]
  },
  {
   "cell_type": "markdown",
   "id": "94da9a13",
   "metadata": {},
   "source": [
    "The example shows how to build a GNN for a semi-supervised node classification model on the Cora dataset. The next step is to define the  Graph Convolutional Network that will compute node representations using neighborhood information. This is done using `dgl.nn.GraphConv`."
   ]
  },
  {
   "cell_type": "markdown",
   "id": "2c8c439e",
   "metadata": {},
   "source": [
    "The next move is to train the neural network. The training is done similar to how you would have done training in PyTorch or TensorFlow. "
   ]
  },
  {
   "cell_type": "code",
   "execution_count": 21,
   "id": "4b9e35f5",
   "metadata": {},
   "outputs": [],
   "source": [
    "from dgl.nn import GraphConv\n",
    "class GCN(nn.Module):\n",
    "    def __init__(self, in_feats, h_feats, num_classes):\n",
    "        super(GCN, self).__init__()\n",
    "        self.conv1 = GraphConv(in_feats, h_feats)\n",
    "        self.conv2 = GraphConv(h_feats, num_classes)\n",
    "\n",
    "    def forward(self, g, in_feat):\n",
    "        h = self.conv1(g, in_feat)\n",
    "        h = F.relu(h)\n",
    "        h = self.conv2(g, h)\n",
    "        return h\n",
    "# Create the model with given dimensions\n",
    "model = GCN(g.ndata['feat'].shape[1], 16, dataset.num_classes)"
   ]
  },
  {
   "cell_type": "code",
   "execution_count": 22,
   "id": "7d375fcd",
   "metadata": {},
   "outputs": [
    {
     "name": "stdout",
     "output_type": "stream",
     "text": [
      "In epoch 0, loss: 1.947, val acc: 0.112 (best 0.112), test acc: 0.123 (best 0.123)\n",
      "In epoch 5, loss: 1.893, val acc: 0.206 (best 0.358), test acc: 0.226 (best 0.378)\n",
      "In epoch 10, loss: 1.810, val acc: 0.246 (best 0.358), test acc: 0.278 (best 0.378)\n",
      "In epoch 15, loss: 1.704, val acc: 0.392 (best 0.392), test acc: 0.417 (best 0.417)\n",
      "In epoch 20, loss: 1.578, val acc: 0.462 (best 0.462), test acc: 0.502 (best 0.502)\n",
      "In epoch 25, loss: 1.431, val acc: 0.566 (best 0.566), test acc: 0.608 (best 0.608)\n",
      "In epoch 30, loss: 1.268, val acc: 0.640 (best 0.640), test acc: 0.660 (best 0.660)\n",
      "In epoch 35, loss: 1.095, val acc: 0.712 (best 0.712), test acc: 0.704 (best 0.704)\n",
      "In epoch 40, loss: 0.923, val acc: 0.740 (best 0.740), test acc: 0.724 (best 0.724)\n",
      "In epoch 45, loss: 0.761, val acc: 0.752 (best 0.752), test acc: 0.743 (best 0.743)\n",
      "In epoch 50, loss: 0.617, val acc: 0.752 (best 0.756), test acc: 0.754 (best 0.750)\n",
      "In epoch 55, loss: 0.496, val acc: 0.756 (best 0.756), test acc: 0.768 (best 0.750)\n",
      "In epoch 60, loss: 0.397, val acc: 0.756 (best 0.758), test acc: 0.769 (best 0.768)\n",
      "In epoch 65, loss: 0.318, val acc: 0.764 (best 0.766), test acc: 0.771 (best 0.772)\n",
      "In epoch 70, loss: 0.257, val acc: 0.766 (best 0.768), test acc: 0.778 (best 0.776)\n",
      "In epoch 75, loss: 0.209, val acc: 0.768 (best 0.768), test acc: 0.781 (best 0.776)\n",
      "In epoch 80, loss: 0.173, val acc: 0.774 (best 0.774), test acc: 0.782 (best 0.780)\n",
      "In epoch 85, loss: 0.144, val acc: 0.778 (best 0.778), test acc: 0.783 (best 0.783)\n",
      "In epoch 90, loss: 0.122, val acc: 0.776 (best 0.778), test acc: 0.786 (best 0.783)\n",
      "In epoch 95, loss: 0.104, val acc: 0.774 (best 0.778), test acc: 0.785 (best 0.783)\n"
     ]
    }
   ],
   "source": [
    "def train(g, model):\n",
    "    optimizer = torch.optim.Adam(model.parameters(), lr=0.01)\n",
    "    best_val_acc = 0\n",
    "    best_test_acc = 0\n",
    "\n",
    "    features = g.ndata['feat']\n",
    "    labels = g.ndata['label']\n",
    "    train_mask = g.ndata['train_mask']\n",
    "    val_mask = g.ndata['val_mask']\n",
    "    test_mask = g.ndata['test_mask']\n",
    "    for e in range(100):\n",
    "        # Forward\n",
    "        logits = model(g, features)\n",
    "\n",
    "        # Compute prediction\n",
    "        pred = logits.argmax(1)\n",
    "\n",
    "        # Compute loss\n",
    "        # Note that you should only compute the losses of the nodes in the training set.\n",
    "        loss = F.cross_entropy(logits[train_mask], labels[train_mask])\n",
    "\n",
    "        # Compute accuracy on training/validation/test\n",
    "        train_acc = (pred[train_mask] == labels[train_mask]).float().mean()\n",
    "        val_acc = (pred[val_mask] == labels[val_mask]).float().mean()\n",
    "        test_acc = (pred[test_mask] == labels[test_mask]).float().mean()\n",
    "\n",
    "        # Save the best validation accuracy and the corresponding test accuracy.\n",
    "        if best_val_acc < val_acc:\n",
    "            best_val_acc = val_acc\n",
    "            best_test_acc = test_acc\n",
    "\n",
    "        # Backward\n",
    "        optimizer.zero_grad()\n",
    "        loss.backward()\n",
    "        optimizer.step()\n",
    "\n",
    "        if e % 5 == 0:\n",
    "            print('In epoch {}, loss: {:.3f}, val acc: {:.3f} (best {:.3f}), test acc: {:.3f} (best {:.3f})'.format(\n",
    "                e, loss, val_acc, best_val_acc, test_acc, best_test_acc))\n",
    "model = GCN(g.ndata['feat'].shape[1], 16, dataset.num_classes)\n",
    "train(g, model)"
   ]
  },
  {
   "cell_type": "markdown",
   "id": "82697af6",
   "metadata": {},
   "source": [
    "# Training a GNN for graph classification\n",
    "\n"
   ]
  },
  {
   "cell_type": "code",
   "execution_count": 7,
   "id": "ebc67971",
   "metadata": {},
   "outputs": [
    {
     "name": "stderr",
     "output_type": "stream",
     "text": [
      "2021-10-12 17:02:35.064999: W tensorflow/stream_executor/platform/default/dso_loader.cc:64] Could not load dynamic library 'libcuda.so.1'; dlerror: libcuda.so.1: cannot open shared object file: No such file or directory\n",
      "2021-10-12 17:02:35.065062: W tensorflow/stream_executor/cuda/cuda_driver.cc:269] failed call to cuInit: UNKNOWN ERROR (303)\n",
      "2021-10-12 17:02:35.065111: I tensorflow/stream_executor/cuda/cuda_diagnostics.cc:156] kernel driver does not appear to be running on this host (sraj-OptiPlex-5050): /proc/driver/nvidia/version does not exist\n",
      "2021-10-12 17:02:35.065620: I tensorflow/core/platform/cpu_feature_guard.cc:142] This TensorFlow binary is optimized with oneAPI Deep Neural Network Library (oneDNN) to use the following CPU instructions in performance-critical operations:  AVX2 FMA\n",
      "To enable them in other operations, rebuild TensorFlow with the appropriate compiler flags.\n"
     ]
    }
   ],
   "source": [
    "import tensorflow.keras as ks\n",
    "from kgcnn.layers.gather import GatherNodes\n",
    "from kgcnn.layers.keras import Dense, Concatenate  # ragged support\n",
    "from kgcnn.layers.pool.pooling import PoolingLocalMessages, PoolingNodes\n",
    "\n",
    "n = ks.layers.Input(shape=(None, 3), name='node_input', dtype=\"float32\", ragged=True)\n",
    "ei = ks.layers.Input(shape=(None, 2), name='edge_index_input', dtype=\"int64\", ragged=True)\n",
    "\n",
    "n_in_out = GatherNodes()([n, ei])\n",
    "node_messages = Dense(10, activation='relu')(n_in_out)\n",
    "node_updates = PoolingLocalMessages()([n, node_messages, ei])\n",
    "n_node_updates = Concatenate(axis=-1)([n, node_updates])\n",
    "n_embedd = Dense(1)(n_node_updates)\n",
    "g_embedd = PoolingNodes()(n_embedd)\n",
    "\n",
    "message_passing = ks.models.Model(inputs=[n, ei], outputs=g_embedd)"
   ]
  },
  {
   "cell_type": "code",
   "execution_count": 8,
   "id": "cd1edda6",
   "metadata": {},
   "outputs": [],
   "source": [
    "from kgcnn.layers.conv.message import MessagePassingBase\n",
    "from kgcnn.layers.keras import Dense, Add\n",
    "\n",
    "def MyMessageNN(MessagePassingBase):\n",
    "\n",
    "    def __init__(self, units, **kwargs):\n",
    "        super(MyMessageNN, self).__init__(**kwargs)\n",
    "        self.dense = Dense(units)\n",
    "        self.add = Add(axis=-1)\n",
    "\n",
    "    def message_function(self, inputs, **kwargs):\n",
    "        n_in, n_out, edges = inputs\n",
    "        return self.dense(n_out)\n",
    "\n",
    "    def update_nodes(self, inputs, **kwargs):\n",
    "        nodes, nodes_update = inputs\n",
    "        return self.add([nodes, nodes_update])\n",
    "\n"
   ]
  },
  {
   "cell_type": "code",
   "execution_count": null,
   "id": "fbec0514",
   "metadata": {},
   "outputs": [],
   "source": []
  },
  {
   "cell_type": "code",
   "execution_count": null,
   "id": "01de0e5e",
   "metadata": {},
   "outputs": [],
   "source": []
  },
  {
   "cell_type": "code",
   "execution_count": null,
   "id": "eea1326a",
   "metadata": {},
   "outputs": [],
   "source": []
  },
  {
   "cell_type": "code",
   "execution_count": null,
   "id": "3b2e9921",
   "metadata": {},
   "outputs": [],
   "source": []
  },
  {
   "cell_type": "code",
   "execution_count": null,
   "id": "44d7c3d4",
   "metadata": {},
   "outputs": [],
   "source": []
  },
  {
   "cell_type": "code",
   "execution_count": null,
   "id": "9729134e",
   "metadata": {},
   "outputs": [],
   "source": []
  }
 ],
 "metadata": {
  "kernelspec": {
   "display_name": "Python 3 (ipykernel)",
   "language": "python",
   "name": "python3"
  },
  "language_info": {
   "codemirror_mode": {
    "name": "ipython",
    "version": 3
   },
   "file_extension": ".py",
   "mimetype": "text/x-python",
   "name": "python",
   "nbconvert_exporter": "python",
   "pygments_lexer": "ipython3",
   "version": "3.8.11"
  }
 },
 "nbformat": 4,
 "nbformat_minor": 5
}
